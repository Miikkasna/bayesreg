{
 "cells": [
  {
   "cell_type": "code",
   "execution_count": 1,
   "metadata": {},
   "outputs": [
    {
     "data": {
      "text/plain": [
       "<matplotlib.collections.PathCollection at 0x1f9258398b0>"
      ]
     },
     "execution_count": 1,
     "metadata": {},
     "output_type": "execute_result"
    },
    {
     "data": {
      "image/png": "[encoded data removed]",
      "text/plain": [
       "<Figure size 432x288 with 1 Axes>"
      ]
     },
     "metadata": {
      "needs_background": "light"
     },
     "output_type": "display_data"
    }
   ],
   "source": [
    "import pandas as pd\n",
    "import matplotlib.pyplot as plt\n",
    "import numpy as np\n",
    "from scipy.stats import norm\n",
    "# generate data\n",
    "n = 10\n",
    "sigma = 5\n",
    "data = pd.DataFrame(columns=['x', 'y'])\n",
    "data['x'] = np.linspace(0, 8, n)\n",
    "k = 3.4\n",
    "c = 23\n",
    "data['y'] = k*data['x'] + c + np.random.randn(n)*sigma\n",
    "# plot data\n",
    "plt.scatter(data['x'], data['y'])"
   ]
  },
  {
   "cell_type": "code",
   "execution_count": 2,
   "metadata": {},
   "outputs": [
    {
     "data": {
      "text/html": [
       "<div>\n",
       "<style scoped>\n",
       "    .dataframe tbody tr th:only-of-type {\n",
       "        vertical-align: middle;\n",
       "    }\n",
       "\n",
       "    .dataframe tbody tr th {\n",
       "        vertical-align: top;\n",
       "    }\n",
       "\n",
       "    .dataframe thead th {\n",
       "        text-align: right;\n",
       "    }\n",
       "</style>\n",
       "<table border=\"1\" class=\"dataframe\">\n",
       "  <thead>\n",
       "    <tr style=\"text-align: right;\">\n",
       "      <th></th>\n",
       "      <th>slope</th>\n",
       "      <th>intercept</th>\n",
       "      <th>prior</th>\n",
       "    </tr>\n",
       "  </thead>\n",
       "  <tbody>\n",
       "    <tr>\n",
       "      <th>0</th>\n",
       "      <td>-10.0</td>\n",
       "      <td>-50.000000</td>\n",
       "      <td>1.556067e-46</td>\n",
       "    </tr>\n",
       "    <tr>\n",
       "      <th>1</th>\n",
       "      <td>-10.0</td>\n",
       "      <td>-49.497487</td>\n",
       "      <td>6.322699e-46</td>\n",
       "    </tr>\n",
       "    <tr>\n",
       "      <th>2</th>\n",
       "      <td>-10.0</td>\n",
       "      <td>-48.994975</td>\n",
       "      <td>2.543256e-45</td>\n",
       "    </tr>\n",
       "    <tr>\n",
       "      <th>3</th>\n",
       "      <td>-10.0</td>\n",
       "      <td>-48.492462</td>\n",
       "      <td>1.012724e-44</td>\n",
       "    </tr>\n",
       "    <tr>\n",
       "      <th>4</th>\n",
       "      <td>-10.0</td>\n",
       "      <td>-47.989950</td>\n",
       "      <td>3.992134e-44</td>\n",
       "    </tr>\n",
       "  </tbody>\n",
       "</table>\n",
       "</div>"
      ],
      "text/plain": [
       "   slope  intercept         prior\n",
       "0  -10.0 -50.000000  1.556067e-46\n",
       "1  -10.0 -49.497487  6.322699e-46\n",
       "2  -10.0 -48.994975  2.543256e-45\n",
       "3  -10.0 -48.492462  1.012724e-44\n",
       "4  -10.0 -47.989950  3.992134e-44"
      ]
     },
     "execution_count": 2,
     "metadata": {},
     "output_type": "execute_result"
    }
   ],
   "source": [
    "# form combinations of parameters and define their priors\n",
    "from itertools import product\n",
    "\n",
    "# create parameter space for slope and intercept\n",
    "param_n = 200\n",
    "data_slope = np.linspace(-10, 10, num=param_n)\n",
    "data_inter = np.linspace(-50, 50, num=param_n)\n",
    "\n",
    "# create dataframe for parameters\n",
    "df = pd.DataFrame(columns=['slope','intercept','prior'])\n",
    "# parameter combinations\n",
    "comb =list(product(data_slope, data_inter))\n",
    "temp = pd.DataFrame(data=comb, columns=['slope','intercept'])\n",
    "\n",
    "df['slope'] = temp['slope']\n",
    "df['intercept'] = temp['intercept']\n",
    "slope_prior = norm(1, 5).pdf(df['slope'])\n",
    "intercept_prior = norm(20, 5).pdf(df['intercept'])\n",
    "df['prior'] = slope_prior*intercept_prior\n",
    "df.head()\n"
   ]
  },
  {
   "cell_type": "code",
   "execution_count": 3,
   "metadata": {},
   "outputs": [
    {
     "name": "stdout",
     "output_type": "stream",
     "text": [
      "   slope  intercept         prior  temp  org_idx         x          y\n",
      "0  -10.0      -50.0  1.556067e-46     1        0  0.000000  24.767341\n",
      "1  -10.0      -50.0  1.556067e-46     1        0  0.888889  33.598342\n",
      "2  -10.0      -50.0  1.556067e-46     1        0  1.777778  36.689685\n",
      "3  -10.0      -50.0  1.556067e-46     1        0  2.666667  37.710857\n",
      "4  -10.0      -50.0  1.556067e-46     1        0  3.555556  32.556727\n"
     ]
    },
    {
     "data": {
      "text/html": [
       "<div>\n",
       "<style scoped>\n",
       "    .dataframe tbody tr th:only-of-type {\n",
       "        vertical-align: middle;\n",
       "    }\n",
       "\n",
       "    .dataframe tbody tr th {\n",
       "        vertical-align: top;\n",
       "    }\n",
       "\n",
       "    .dataframe thead th {\n",
       "        text-align: right;\n",
       "    }\n",
       "</style>\n",
       "<table border=\"1\" class=\"dataframe\">\n",
       "  <thead>\n",
       "    <tr style=\"text-align: right;\">\n",
       "      <th></th>\n",
       "      <th>org_idx</th>\n",
       "      <th>slope</th>\n",
       "      <th>intercept</th>\n",
       "      <th>prior</th>\n",
       "      <th>likelihood</th>\n",
       "    </tr>\n",
       "  </thead>\n",
       "  <tbody>\n",
       "    <tr>\n",
       "      <th>0</th>\n",
       "      <td>0</td>\n",
       "      <td>-10.0</td>\n",
       "      <td>-50.000000</td>\n",
       "      <td>1.556067e-46</td>\n",
       "      <td>0.0</td>\n",
       "    </tr>\n",
       "    <tr>\n",
       "      <th>1</th>\n",
       "      <td>1</td>\n",
       "      <td>-10.0</td>\n",
       "      <td>-49.497487</td>\n",
       "      <td>6.322699e-46</td>\n",
       "      <td>0.0</td>\n",
       "    </tr>\n",
       "    <tr>\n",
       "      <th>2</th>\n",
       "      <td>2</td>\n",
       "      <td>-10.0</td>\n",
       "      <td>-48.994975</td>\n",
       "      <td>2.543256e-45</td>\n",
       "      <td>0.0</td>\n",
       "    </tr>\n",
       "    <tr>\n",
       "      <th>3</th>\n",
       "      <td>3</td>\n",
       "      <td>-10.0</td>\n",
       "      <td>-48.492462</td>\n",
       "      <td>1.012724e-44</td>\n",
       "      <td>0.0</td>\n",
       "    </tr>\n",
       "    <tr>\n",
       "      <th>4</th>\n",
       "      <td>4</td>\n",
       "      <td>-10.0</td>\n",
       "      <td>-47.989950</td>\n",
       "      <td>3.992134e-44</td>\n",
       "      <td>0.0</td>\n",
       "    </tr>\n",
       "  </tbody>\n",
       "</table>\n",
       "</div>"
      ],
      "text/plain": [
       "   org_idx  slope  intercept         prior  likelihood\n",
       "0        0  -10.0 -50.000000  1.556067e-46         0.0\n",
       "1        1  -10.0 -49.497487  6.322699e-46         0.0\n",
       "2        2  -10.0 -48.994975  2.543256e-45         0.0\n",
       "3        3  -10.0 -48.492462  1.012724e-44         0.0\n",
       "4        4  -10.0 -47.989950  3.992134e-44         0.0"
      ]
     },
     "execution_count": 3,
     "metadata": {},
     "output_type": "execute_result"
    }
   ],
   "source": [
    "# calculate likelihoods\n",
    "# temp indexes for full join\n",
    "data['temp'] = 1\n",
    "df['temp'] = 1\n",
    "\n",
    "# save old indexes before join\n",
    "df['org_idx'] = df.index\n",
    "# full join\n",
    "df = pd.merge(df, data, on=['temp'])\n",
    "print(df.head())\n",
    "\n",
    "df['residual'] = df['y'] - (df['slope'] * df['x'] + df['intercept'])\n",
    "df['likelihood'] = norm(0, sigma).pdf(df['residual'])\n",
    "\n",
    "# group by slope and intercept (=org_idx) to get product of likelihoods per parameters\n",
    "df = df.groupby(['org_idx'], as_index=False).agg({'slope': 'first', 'intercept': 'first', 'prior': 'first', 'likelihood': 'prod'})\n",
    "\n",
    "df.head()"
   ]
  },
  {
   "cell_type": "code",
   "execution_count": 4,
   "metadata": {},
   "outputs": [
    {
     "data": {
      "text/html": [
       "<div>\n",
       "<style scoped>\n",
       "    .dataframe tbody tr th:only-of-type {\n",
       "        vertical-align: middle;\n",
       "    }\n",
       "\n",
       "    .dataframe tbody tr th {\n",
       "        vertical-align: top;\n",
       "    }\n",
       "\n",
       "    .dataframe thead th {\n",
       "        text-align: right;\n",
       "    }\n",
       "</style>\n",
       "<table border=\"1\" class=\"dataframe\">\n",
       "  <thead>\n",
       "    <tr style=\"text-align: right;\">\n",
       "      <th></th>\n",
       "      <th>org_idx</th>\n",
       "      <th>slope</th>\n",
       "      <th>intercept</th>\n",
       "      <th>prior</th>\n",
       "      <th>likelihood</th>\n",
       "      <th>posterior</th>\n",
       "    </tr>\n",
       "  </thead>\n",
       "  <tbody>\n",
       "    <tr>\n",
       "      <th>0</th>\n",
       "      <td>0</td>\n",
       "      <td>-10.0</td>\n",
       "      <td>-50.000000</td>\n",
       "      <td>1.556067e-46</td>\n",
       "      <td>0.0</td>\n",
       "      <td>0.0</td>\n",
       "    </tr>\n",
       "    <tr>\n",
       "      <th>1</th>\n",
       "      <td>1</td>\n",
       "      <td>-10.0</td>\n",
       "      <td>-49.497487</td>\n",
       "      <td>6.322699e-46</td>\n",
       "      <td>0.0</td>\n",
       "      <td>0.0</td>\n",
       "    </tr>\n",
       "    <tr>\n",
       "      <th>2</th>\n",
       "      <td>2</td>\n",
       "      <td>-10.0</td>\n",
       "      <td>-48.994975</td>\n",
       "      <td>2.543256e-45</td>\n",
       "      <td>0.0</td>\n",
       "      <td>0.0</td>\n",
       "    </tr>\n",
       "    <tr>\n",
       "      <th>3</th>\n",
       "      <td>3</td>\n",
       "      <td>-10.0</td>\n",
       "      <td>-48.492462</td>\n",
       "      <td>1.012724e-44</td>\n",
       "      <td>0.0</td>\n",
       "      <td>0.0</td>\n",
       "    </tr>\n",
       "    <tr>\n",
       "      <th>4</th>\n",
       "      <td>4</td>\n",
       "      <td>-10.0</td>\n",
       "      <td>-47.989950</td>\n",
       "      <td>3.992134e-44</td>\n",
       "      <td>0.0</td>\n",
       "      <td>0.0</td>\n",
       "    </tr>\n",
       "  </tbody>\n",
       "</table>\n",
       "</div>"
      ],
      "text/plain": [
       "   org_idx  slope  intercept         prior  likelihood  posterior\n",
       "0        0  -10.0 -50.000000  1.556067e-46         0.0        0.0\n",
       "1        1  -10.0 -49.497487  6.322699e-46         0.0        0.0\n",
       "2        2  -10.0 -48.994975  2.543256e-45         0.0        0.0\n",
       "3        3  -10.0 -48.492462  1.012724e-44         0.0        0.0\n",
       "4        4  -10.0 -47.989950  3.992134e-44         0.0        0.0"
      ]
     },
     "execution_count": 4,
     "metadata": {},
     "output_type": "execute_result"
    }
   ],
   "source": [
    "# calculate posterior\n",
    "df['posterior'] = df['prior'] * df['likelihood']\n",
    "# normalize\n",
    "df['posterior'] = df['posterior'] / df['posterior'].sum()\n",
    "df.head()"
   ]
  },
  {
   "cell_type": "code",
   "execution_count": 5,
   "metadata": {},
   "outputs": [
    {
     "data": {
      "text/plain": [
       "<matplotlib.legend.Legend at 0x1f927d79d60>"
      ]
     },
     "execution_count": 5,
     "metadata": {},
     "output_type": "execute_result"
    },
    {
     "data": {
      "image/png": "[encoded data removed]",
      "text/plain": [
       "<Figure size 432x288 with 1 Axes>"
      ]
     },
     "metadata": {
      "needs_background": "light"
     },
     "output_type": "display_data"
    }
   ],
   "source": [
    "# plot data points\n",
    "plt.scatter(data['x'], data['y'])\n",
    "# plot bayes\n",
    "idx = df['posterior'].argmax()\n",
    "k = df['slope'][idx]\n",
    "c = df['intercept'][idx]\n",
    "plt.plot(data['x'], data['x']*k + c)\n",
    "# plot max likelihood\n",
    "idx = df['likelihood'].argmax()\n",
    "k = df['slope'][idx]\n",
    "c = df['intercept'][idx]\n",
    "plt.plot(data['x'], data['x']*k + c)\n",
    "plt.legend(['Data points', 'MAP', 'MLE'])\n"
   ]
  }
 ],
 "metadata": {
  "interpreter": {
   "hash": "51e7008fdcb8d6f65e66b2d1b59713f64a4b0f9b088cf175afd57dcb4916c869"
  },
  "kernelspec": {
   "display_name": "Python 3.9.10 64-bit (system)",
   "language": "python",
   "name": "python3"
  },
  "language_info": {
   "codemirror_mode": {
    "name": "ipython",
    "version": 3
   },
   "file_extension": ".py",
   "mimetype": "text/x-python",
   "name": "python",
   "nbconvert_exporter": "python",
   "pygments_lexer": "ipython3",
   "version": "3.9.10"
  },
  "orig_nbformat": 4
 },
 "nbformat": 4,
 "nbformat_minor": 2
}
