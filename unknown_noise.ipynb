{
 "cells": [
  {
   "cell_type": "code",
   "execution_count": 1,
   "metadata": {},
   "outputs": [
    {
     "data": {
      "text/plain": [
       "<matplotlib.collections.PathCollection at 0x17bbeda8a90>"
      ]
     },
     "execution_count": 1,
     "metadata": {},
     "output_type": "execute_result"
    },
    {
     "data": {
      "image/png": "[encoded data removed]",
      "text/plain": [
       "<Figure size 432x288 with 1 Axes>"
      ]
     },
     "metadata": {
      "needs_background": "light"
     },
     "output_type": "display_data"
    }
   ],
   "source": [
    "import pandas as pd\n",
    "import matplotlib.pyplot as plt\n",
    "import numpy as np\n",
    "from scipy.stats import norm, expon\n",
    "# generate data\n",
    "n = 10\n",
    "sigma = 5\n",
    "data = pd.DataFrame(columns=['x', 'y'])\n",
    "data['x'] = np.linspace(0, 8, n)\n",
    "k = 3.4\n",
    "c = 23\n",
    "data['y'] = k*data['x'] + c + np.random.randn(n)*sigma\n",
    "# plot data\n",
    "plt.scatter(data['x'], data['y'])"
   ]
  },
  {
   "cell_type": "code",
   "execution_count": 2,
   "metadata": {},
   "outputs": [
    {
     "data": {
      "text/html": [
       "<div>\n",
       "<style scoped>\n",
       "    .dataframe tbody tr th:only-of-type {\n",
       "        vertical-align: middle;\n",
       "    }\n",
       "\n",
       "    .dataframe tbody tr th {\n",
       "        vertical-align: top;\n",
       "    }\n",
       "\n",
       "    .dataframe thead th {\n",
       "        text-align: right;\n",
       "    }\n",
       "</style>\n",
       "<table border=\"1\" class=\"dataframe\">\n",
       "  <thead>\n",
       "    <tr style=\"text-align: right;\">\n",
       "      <th></th>\n",
       "      <th>slope</th>\n",
       "      <th>intercept</th>\n",
       "      <th>sigma</th>\n",
       "      <th>prior</th>\n",
       "    </tr>\n",
       "  </thead>\n",
       "  <tbody>\n",
       "    <tr>\n",
       "      <th>0</th>\n",
       "      <td>-10.0</td>\n",
       "      <td>-50.0</td>\n",
       "      <td>0.001000</td>\n",
       "      <td>1.555911e-47</td>\n",
       "    </tr>\n",
       "    <tr>\n",
       "      <th>1</th>\n",
       "      <td>-10.0</td>\n",
       "      <td>-50.0</td>\n",
       "      <td>0.252251</td>\n",
       "      <td>1.517306e-47</td>\n",
       "    </tr>\n",
       "    <tr>\n",
       "      <th>2</th>\n",
       "      <td>-10.0</td>\n",
       "      <td>-50.0</td>\n",
       "      <td>0.503503</td>\n",
       "      <td>1.479658e-47</td>\n",
       "    </tr>\n",
       "    <tr>\n",
       "      <th>3</th>\n",
       "      <td>-10.0</td>\n",
       "      <td>-50.0</td>\n",
       "      <td>0.754754</td>\n",
       "      <td>1.442945e-47</td>\n",
       "    </tr>\n",
       "    <tr>\n",
       "      <th>4</th>\n",
       "      <td>-10.0</td>\n",
       "      <td>-50.0</td>\n",
       "      <td>1.006005</td>\n",
       "      <td>1.407142e-47</td>\n",
       "    </tr>\n",
       "  </tbody>\n",
       "</table>\n",
       "</div>"
      ],
      "text/plain": [
       "   slope  intercept     sigma         prior\n",
       "0  -10.0      -50.0  0.001000  1.555911e-47\n",
       "1  -10.0      -50.0  0.252251  1.517306e-47\n",
       "2  -10.0      -50.0  0.503503  1.479658e-47\n",
       "3  -10.0      -50.0  0.754754  1.442945e-47\n",
       "4  -10.0      -50.0  1.006005  1.407142e-47"
      ]
     },
     "execution_count": 2,
     "metadata": {},
     "output_type": "execute_result"
    }
   ],
   "source": [
    "# form combinations of parameters and define their priors\n",
    "from itertools import product\n",
    "\n",
    "# create parameter space for slope and intercept\n",
    "resolution = 200\n",
    "data_slope = np.linspace(-10, 10, num=resolution)\n",
    "data_inter = np.linspace(-50, 50, num=resolution)\n",
    "data_sigma = np.linspace(0.001, 50, num=resolution)\n",
    "\n",
    "# create dataframe for parameters\n",
    "df = pd.DataFrame(columns=['slope','intercept', 'sigma', 'prior'])\n",
    "# parameter combinations\n",
    "comb =list(product(data_slope, data_inter, data_sigma))\n",
    "temp = pd.DataFrame(data=comb, columns=['slope','intercept', 'sigma'])\n",
    "\n",
    "df['slope'] = temp['slope']\n",
    "df['intercept'] = temp['intercept']\n",
    "df['sigma'] = temp['sigma']\n",
    "slope_prior = norm(1, 5).pdf(df['slope'])\n",
    "intercept_prior = norm(20, 5).pdf(df['intercept'])\n",
    "sigma_prior = expon(0, 10).pdf(df['sigma'])\n",
    "df['prior'] = slope_prior*intercept_prior*sigma_prior\n",
    "df.head()\n"
   ]
  },
  {
   "cell_type": "code",
   "execution_count": 3,
   "metadata": {},
   "outputs": [
    {
     "data": {
      "text/html": [
       "<div>\n",
       "<style scoped>\n",
       "    .dataframe tbody tr th:only-of-type {\n",
       "        vertical-align: middle;\n",
       "    }\n",
       "\n",
       "    .dataframe tbody tr th {\n",
       "        vertical-align: top;\n",
       "    }\n",
       "\n",
       "    .dataframe thead th {\n",
       "        text-align: right;\n",
       "    }\n",
       "</style>\n",
       "<table border=\"1\" class=\"dataframe\">\n",
       "  <thead>\n",
       "    <tr style=\"text-align: right;\">\n",
       "      <th></th>\n",
       "      <th>slope</th>\n",
       "      <th>intercept</th>\n",
       "      <th>sigma</th>\n",
       "      <th>prior</th>\n",
       "      <th>temp</th>\n",
       "      <th>org_idx</th>\n",
       "      <th>x</th>\n",
       "      <th>y</th>\n",
       "    </tr>\n",
       "  </thead>\n",
       "  <tbody>\n",
       "    <tr>\n",
       "      <th>0</th>\n",
       "      <td>-10.0</td>\n",
       "      <td>-50.0</td>\n",
       "      <td>0.001</td>\n",
       "      <td>1.555911e-47</td>\n",
       "      <td>1</td>\n",
       "      <td>0</td>\n",
       "      <td>0.000000</td>\n",
       "      <td>14.312964</td>\n",
       "    </tr>\n",
       "    <tr>\n",
       "      <th>1</th>\n",
       "      <td>-10.0</td>\n",
       "      <td>-50.0</td>\n",
       "      <td>0.001</td>\n",
       "      <td>1.555911e-47</td>\n",
       "      <td>1</td>\n",
       "      <td>0</td>\n",
       "      <td>0.888889</td>\n",
       "      <td>23.181813</td>\n",
       "    </tr>\n",
       "    <tr>\n",
       "      <th>2</th>\n",
       "      <td>-10.0</td>\n",
       "      <td>-50.0</td>\n",
       "      <td>0.001</td>\n",
       "      <td>1.555911e-47</td>\n",
       "      <td>1</td>\n",
       "      <td>0</td>\n",
       "      <td>1.777778</td>\n",
       "      <td>30.555804</td>\n",
       "    </tr>\n",
       "    <tr>\n",
       "      <th>3</th>\n",
       "      <td>-10.0</td>\n",
       "      <td>-50.0</td>\n",
       "      <td>0.001</td>\n",
       "      <td>1.555911e-47</td>\n",
       "      <td>1</td>\n",
       "      <td>0</td>\n",
       "      <td>2.666667</td>\n",
       "      <td>31.270342</td>\n",
       "    </tr>\n",
       "    <tr>\n",
       "      <th>4</th>\n",
       "      <td>-10.0</td>\n",
       "      <td>-50.0</td>\n",
       "      <td>0.001</td>\n",
       "      <td>1.555911e-47</td>\n",
       "      <td>1</td>\n",
       "      <td>0</td>\n",
       "      <td>3.555556</td>\n",
       "      <td>31.027764</td>\n",
       "    </tr>\n",
       "  </tbody>\n",
       "</table>\n",
       "</div>"
      ],
      "text/plain": [
       "   slope  intercept  sigma         prior  temp  org_idx         x          y\n",
       "0  -10.0      -50.0  0.001  1.555911e-47     1        0  0.000000  14.312964\n",
       "1  -10.0      -50.0  0.001  1.555911e-47     1        0  0.888889  23.181813\n",
       "2  -10.0      -50.0  0.001  1.555911e-47     1        0  1.777778  30.555804\n",
       "3  -10.0      -50.0  0.001  1.555911e-47     1        0  2.666667  31.270342\n",
       "4  -10.0      -50.0  0.001  1.555911e-47     1        0  3.555556  31.027764"
      ]
     },
     "execution_count": 3,
     "metadata": {},
     "output_type": "execute_result"
    }
   ],
   "source": [
    "# form temporary table for parameters and data\n",
    "# temp indexes for full join\n",
    "data['temp'] = 1\n",
    "df['temp'] = 1\n",
    "\n",
    "# save old indexes before join\n",
    "df['org_idx'] = df.index\n",
    "# full join\n",
    "df = pd.merge(df, data, on=['temp'])\n",
    "df.head()"
   ]
  },
  {
   "cell_type": "code",
   "execution_count": 4,
   "metadata": {},
   "outputs": [
    {
     "data": {
      "text/html": [
       "<div>\n",
       "<style scoped>\n",
       "    .dataframe tbody tr th:only-of-type {\n",
       "        vertical-align: middle;\n",
       "    }\n",
       "\n",
       "    .dataframe tbody tr th {\n",
       "        vertical-align: top;\n",
       "    }\n",
       "\n",
       "    .dataframe thead th {\n",
       "        text-align: right;\n",
       "    }\n",
       "</style>\n",
       "<table border=\"1\" class=\"dataframe\">\n",
       "  <thead>\n",
       "    <tr style=\"text-align: right;\">\n",
       "      <th></th>\n",
       "      <th>org_idx</th>\n",
       "      <th>slope</th>\n",
       "      <th>intercept</th>\n",
       "      <th>sigma</th>\n",
       "      <th>prior</th>\n",
       "      <th>likelihood</th>\n",
       "    </tr>\n",
       "  </thead>\n",
       "  <tbody>\n",
       "    <tr>\n",
       "      <th>0</th>\n",
       "      <td>0</td>\n",
       "      <td>-10.0</td>\n",
       "      <td>-50.0</td>\n",
       "      <td>0.001000</td>\n",
       "      <td>1.555911e-47</td>\n",
       "      <td>0.0</td>\n",
       "    </tr>\n",
       "    <tr>\n",
       "      <th>1</th>\n",
       "      <td>1</td>\n",
       "      <td>-10.0</td>\n",
       "      <td>-50.0</td>\n",
       "      <td>0.252251</td>\n",
       "      <td>1.517306e-47</td>\n",
       "      <td>0.0</td>\n",
       "    </tr>\n",
       "    <tr>\n",
       "      <th>2</th>\n",
       "      <td>2</td>\n",
       "      <td>-10.0</td>\n",
       "      <td>-50.0</td>\n",
       "      <td>0.503503</td>\n",
       "      <td>1.479658e-47</td>\n",
       "      <td>0.0</td>\n",
       "    </tr>\n",
       "    <tr>\n",
       "      <th>3</th>\n",
       "      <td>3</td>\n",
       "      <td>-10.0</td>\n",
       "      <td>-50.0</td>\n",
       "      <td>0.754754</td>\n",
       "      <td>1.442945e-47</td>\n",
       "      <td>0.0</td>\n",
       "    </tr>\n",
       "    <tr>\n",
       "      <th>4</th>\n",
       "      <td>4</td>\n",
       "      <td>-10.0</td>\n",
       "      <td>-50.0</td>\n",
       "      <td>1.006005</td>\n",
       "      <td>1.407142e-47</td>\n",
       "      <td>0.0</td>\n",
       "    </tr>\n",
       "  </tbody>\n",
       "</table>\n",
       "</div>"
      ],
      "text/plain": [
       "   org_idx  slope  intercept     sigma         prior  likelihood\n",
       "0        0  -10.0      -50.0  0.001000  1.555911e-47         0.0\n",
       "1        1  -10.0      -50.0  0.252251  1.517306e-47         0.0\n",
       "2        2  -10.0      -50.0  0.503503  1.479658e-47         0.0\n",
       "3        3  -10.0      -50.0  0.754754  1.442945e-47         0.0\n",
       "4        4  -10.0      -50.0  1.006005  1.407142e-47         0.0"
      ]
     },
     "execution_count": 4,
     "metadata": {},
     "output_type": "execute_result"
    }
   ],
   "source": [
    "# calculate likelihoods\n",
    "\n",
    "df['residual'] = df['y'] - (df['slope'] * df['x'] + df['intercept'])\n",
    "df['likelihood'] = norm(0, df['sigma']).pdf(df['residual'])\n",
    "\n",
    "# group by slope and intercept (=org_idx) to get product of likelihoods per parameters\n",
    "df = df.groupby(['org_idx'], as_index=False).agg({'slope': 'first', 'intercept': 'first', 'sigma': 'first', 'prior': 'first', 'likelihood': 'prod'})\n",
    "\n",
    "df.head()"
   ]
  },
  {
   "cell_type": "code",
   "execution_count": 5,
   "metadata": {},
   "outputs": [
    {
     "data": {
      "text/html": [
       "<div>\n",
       "<style scoped>\n",
       "    .dataframe tbody tr th:only-of-type {\n",
       "        vertical-align: middle;\n",
       "    }\n",
       "\n",
       "    .dataframe tbody tr th {\n",
       "        vertical-align: top;\n",
       "    }\n",
       "\n",
       "    .dataframe thead th {\n",
       "        text-align: right;\n",
       "    }\n",
       "</style>\n",
       "<table border=\"1\" class=\"dataframe\">\n",
       "  <thead>\n",
       "    <tr style=\"text-align: right;\">\n",
       "      <th></th>\n",
       "      <th>org_idx</th>\n",
       "      <th>slope</th>\n",
       "      <th>intercept</th>\n",
       "      <th>sigma</th>\n",
       "      <th>prior</th>\n",
       "      <th>likelihood</th>\n",
       "      <th>posterior</th>\n",
       "    </tr>\n",
       "  </thead>\n",
       "  <tbody>\n",
       "    <tr>\n",
       "      <th>0</th>\n",
       "      <td>0</td>\n",
       "      <td>-10.0</td>\n",
       "      <td>-50.0</td>\n",
       "      <td>0.001000</td>\n",
       "      <td>1.555911e-47</td>\n",
       "      <td>0.0</td>\n",
       "      <td>0.0</td>\n",
       "    </tr>\n",
       "    <tr>\n",
       "      <th>1</th>\n",
       "      <td>1</td>\n",
       "      <td>-10.0</td>\n",
       "      <td>-50.0</td>\n",
       "      <td>0.252251</td>\n",
       "      <td>1.517306e-47</td>\n",
       "      <td>0.0</td>\n",
       "      <td>0.0</td>\n",
       "    </tr>\n",
       "    <tr>\n",
       "      <th>2</th>\n",
       "      <td>2</td>\n",
       "      <td>-10.0</td>\n",
       "      <td>-50.0</td>\n",
       "      <td>0.503503</td>\n",
       "      <td>1.479658e-47</td>\n",
       "      <td>0.0</td>\n",
       "      <td>0.0</td>\n",
       "    </tr>\n",
       "    <tr>\n",
       "      <th>3</th>\n",
       "      <td>3</td>\n",
       "      <td>-10.0</td>\n",
       "      <td>-50.0</td>\n",
       "      <td>0.754754</td>\n",
       "      <td>1.442945e-47</td>\n",
       "      <td>0.0</td>\n",
       "      <td>0.0</td>\n",
       "    </tr>\n",
       "    <tr>\n",
       "      <th>4</th>\n",
       "      <td>4</td>\n",
       "      <td>-10.0</td>\n",
       "      <td>-50.0</td>\n",
       "      <td>1.006005</td>\n",
       "      <td>1.407142e-47</td>\n",
       "      <td>0.0</td>\n",
       "      <td>0.0</td>\n",
       "    </tr>\n",
       "  </tbody>\n",
       "</table>\n",
       "</div>"
      ],
      "text/plain": [
       "   org_idx  slope  intercept     sigma         prior  likelihood  posterior\n",
       "0        0  -10.0      -50.0  0.001000  1.555911e-47         0.0        0.0\n",
       "1        1  -10.0      -50.0  0.252251  1.517306e-47         0.0        0.0\n",
       "2        2  -10.0      -50.0  0.503503  1.479658e-47         0.0        0.0\n",
       "3        3  -10.0      -50.0  0.754754  1.442945e-47         0.0        0.0\n",
       "4        4  -10.0      -50.0  1.006005  1.407142e-47         0.0        0.0"
      ]
     },
     "execution_count": 5,
     "metadata": {},
     "output_type": "execute_result"
    }
   ],
   "source": [
    "# calculate posterior\n",
    "df['posterior'] = df['prior'] * df['likelihood']\n",
    "# normalize\n",
    "df['posterior'] = df['posterior'] / df['posterior'].sum()\n",
    "df.head()"
   ]
  },
  {
   "cell_type": "code",
   "execution_count": 6,
   "metadata": {},
   "outputs": [
    {
     "name": "stdout",
     "output_type": "stream",
     "text": [
      "4.021020100502513\n",
      "4.27227135678392\n"
     ]
    },
    {
     "data": {
      "image/png": "[encoded data removed]",
      "text/plain": [
       "<Figure size 432x288 with 1 Axes>"
      ]
     },
     "metadata": {
      "needs_background": "light"
     },
     "output_type": "display_data"
    }
   ],
   "source": [
    "# plot data points\n",
    "plt.scatter(data['x'], data['y'])\n",
    "# plot bayes\n",
    "idx = df['posterior'].argmax()\n",
    "k = df['slope'][idx]\n",
    "c = df['intercept'][idx]\n",
    "plt.plot(data['x'], data['x']*k + c)\n",
    "print(df['sigma'][idx])\n",
    "# plot max likelihood\n",
    "idx = df['likelihood'].argmax()\n",
    "k = df['slope'][idx]\n",
    "c = df['intercept'][idx]\n",
    "plt.plot(data['x'], data['x']*k + c)\n",
    "plt.legend(['Data points', 'MAP', 'MLE'])\n",
    "\n",
    "print(df['sigma'][idx])\n"
   ]
  },
  {
   "cell_type": "code",
   "execution_count": 8,
   "metadata": {},
   "outputs": [
    {
     "data": {
      "text/plain": [
       "<matplotlib.collections.PathCollection at 0x17be2c1b850>"
      ]
     },
     "execution_count": 8,
     "metadata": {},
     "output_type": "execute_result"
    },
    {
     "ename": "",
     "evalue": "",
     "output_type": "error",
     "traceback": [
      "\u001b[1;31mThe Kernel crashed while executing code in the the current cell or a previous cell. Please review the code in the cell(s) to identify a possible cause of the failure. Click <a href='https://aka.ms/vscodeJupyterKernelCrash'>here</a> for more info. View Jupyter <a href='command:jupyter.viewOutput'>log</a> for further details."
     ]
    }
   ],
   "source": [
    "#X, Y = np.meshgrid(df['slope'], df['intercept'])\n",
    "%matplotlib qt\n",
    "x, y = np.array(df['slope']), np.array(df['intercept'])\n",
    "z = np.array(df['posterior'])\n",
    "\n",
    "idx = np.argwhere(z > 0.0001)\n",
    "x, y, z = x[idx], y[idx], z[idx]\n",
    "\n",
    "plt.scatter(x, y, c=z, s=100)"
   ]
  }
 ],
 "metadata": {
  "interpreter": {
   "hash": "51e7008fdcb8d6f65e66b2d1b59713f64a4b0f9b088cf175afd57dcb4916c869"
  },
  "kernelspec": {
   "display_name": "Python 3.9.10 64-bit (system)",
   "language": "python",
   "name": "python3"
  },
  "language_info": {
   "codemirror_mode": {
    "name": "ipython",
    "version": 3
   },
   "file_extension": ".py",
   "mimetype": "text/x-python",
   "name": "python",
   "nbconvert_exporter": "python",
   "pygments_lexer": "ipython3",
   "version": "3.9.10"
  },
  "orig_nbformat": 4
 },
 "nbformat": 4,
 "nbformat_minor": 2
}
